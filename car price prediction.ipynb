{
  "nbformat": 4,
  "nbformat_minor": 0,
  "metadata": {
    "colab": {
      "name": "applied ds ex1.ipynb",
      "provenance": [],
      "collapsed_sections": []
    },
    "kernelspec": {
      "name": "python3",
      "display_name": "Python 3"
    }
  },
  "cells": [
    {
      "cell_type": "code",
      "metadata": {
        "id": "sWe1FsHv07im"
      },
      "source": [
        "import pandas as pd\n",
        "import numpy as np\n",
        "import matplotlib.pyplot as plt \n",
        "import seaborn as sns"
      ],
      "execution_count": null,
      "outputs": []
    },
    {
      "cell_type": "code",
      "metadata": {
        "id": "sGtLST95PQ_e",
        "outputId": "3036dbda-ecc9-40c5-fd06-a5c55a03fc7e",
        "colab": {
          "base_uri": "https://localhost:8080/",
          "height": 206
        }
      },
      "source": [
        "car_data=pd.read_csv(\"/car data.csv\")\n",
        "car_data.head()"
      ],
      "execution_count": null,
      "outputs": [
        {
          "output_type": "execute_result",
          "data": {
            "text/html": [
              "<div>\n",
              "<style scoped>\n",
              "    .dataframe tbody tr th:only-of-type {\n",
              "        vertical-align: middle;\n",
              "    }\n",
              "\n",
              "    .dataframe tbody tr th {\n",
              "        vertical-align: top;\n",
              "    }\n",
              "\n",
              "    .dataframe thead th {\n",
              "        text-align: right;\n",
              "    }\n",
              "</style>\n",
              "<table border=\"1\" class=\"dataframe\">\n",
              "  <thead>\n",
              "    <tr style=\"text-align: right;\">\n",
              "      <th></th>\n",
              "      <th>Car_Name</th>\n",
              "      <th>Year</th>\n",
              "      <th>Selling_Price</th>\n",
              "      <th>Present_Price</th>\n",
              "      <th>Kms_Driven</th>\n",
              "      <th>Fuel_Type</th>\n",
              "      <th>Seller_Type</th>\n",
              "      <th>Transmission</th>\n",
              "      <th>Owner</th>\n",
              "    </tr>\n",
              "  </thead>\n",
              "  <tbody>\n",
              "    <tr>\n",
              "      <th>0</th>\n",
              "      <td>ritz</td>\n",
              "      <td>2014</td>\n",
              "      <td>3.35</td>\n",
              "      <td>5.59</td>\n",
              "      <td>27000</td>\n",
              "      <td>Petrol</td>\n",
              "      <td>Dealer</td>\n",
              "      <td>Manual</td>\n",
              "      <td>0</td>\n",
              "    </tr>\n",
              "    <tr>\n",
              "      <th>1</th>\n",
              "      <td>sx4</td>\n",
              "      <td>2013</td>\n",
              "      <td>4.75</td>\n",
              "      <td>9.54</td>\n",
              "      <td>43000</td>\n",
              "      <td>Diesel</td>\n",
              "      <td>Dealer</td>\n",
              "      <td>Manual</td>\n",
              "      <td>0</td>\n",
              "    </tr>\n",
              "    <tr>\n",
              "      <th>2</th>\n",
              "      <td>ciaz</td>\n",
              "      <td>2017</td>\n",
              "      <td>7.25</td>\n",
              "      <td>9.85</td>\n",
              "      <td>6900</td>\n",
              "      <td>Petrol</td>\n",
              "      <td>Dealer</td>\n",
              "      <td>Manual</td>\n",
              "      <td>0</td>\n",
              "    </tr>\n",
              "    <tr>\n",
              "      <th>3</th>\n",
              "      <td>wagon r</td>\n",
              "      <td>2011</td>\n",
              "      <td>2.85</td>\n",
              "      <td>4.15</td>\n",
              "      <td>5200</td>\n",
              "      <td>Petrol</td>\n",
              "      <td>Dealer</td>\n",
              "      <td>Manual</td>\n",
              "      <td>0</td>\n",
              "    </tr>\n",
              "    <tr>\n",
              "      <th>4</th>\n",
              "      <td>swift</td>\n",
              "      <td>2014</td>\n",
              "      <td>4.60</td>\n",
              "      <td>6.87</td>\n",
              "      <td>42450</td>\n",
              "      <td>Diesel</td>\n",
              "      <td>Dealer</td>\n",
              "      <td>Manual</td>\n",
              "      <td>0</td>\n",
              "    </tr>\n",
              "  </tbody>\n",
              "</table>\n",
              "</div>"
            ],
            "text/plain": [
              "  Car_Name  Year  Selling_Price  ...  Seller_Type  Transmission Owner\n",
              "0     ritz  2014           3.35  ...       Dealer        Manual     0\n",
              "1      sx4  2013           4.75  ...       Dealer        Manual     0\n",
              "2     ciaz  2017           7.25  ...       Dealer        Manual     0\n",
              "3  wagon r  2011           2.85  ...       Dealer        Manual     0\n",
              "4    swift  2014           4.60  ...       Dealer        Manual     0\n",
              "\n",
              "[5 rows x 9 columns]"
            ]
          },
          "metadata": {
            "tags": []
          },
          "execution_count": 25
        }
      ]
    },
    {
      "cell_type": "code",
      "metadata": {
        "id": "miAHLk3ZMAp6",
        "outputId": "8956bcd3-492d-4357-f8ef-d56aa1c1cb80",
        "colab": {
          "base_uri": "https://localhost:8080/",
          "height": 410
        }
      },
      "source": [
        "print(car_data.shape)\n",
        "print((car_data==None).sum())\n",
        "print((car_data!=car_data).sum())"
      ],
      "execution_count": null,
      "outputs": [
        {
          "output_type": "stream",
          "text": [
            "(301, 9)\n",
            "Car_Name         0\n",
            "Year             0\n",
            "Selling_Price    0\n",
            "Present_Price    0\n",
            "Kms_Driven       0\n",
            "Fuel_Type        0\n",
            "Seller_Type      0\n",
            "Transmission     0\n",
            "Owner            0\n",
            "dtype: int64\n",
            "Car_Name         0\n",
            "Year             0\n",
            "Selling_Price    0\n",
            "Present_Price    0\n",
            "Kms_Driven       0\n",
            "Fuel_Type        0\n",
            "Seller_Type      0\n",
            "Transmission     0\n",
            "Owner            0\n",
            "dtype: int64\n"
          ],
          "name": "stdout"
        }
      ]
    },
    {
      "cell_type": "markdown",
      "metadata": {
        "id": "LIztLKPUNbeP"
      },
      "source": [
        "so, no empty values so handling missing values is not required."
      ]
    },
    {
      "cell_type": "code",
      "metadata": {
        "id": "pIR6mnRk2AVk",
        "outputId": "3c4b15ea-8290-4cd1-cc63-b5244f109f36",
        "colab": {
          "base_uri": "https://localhost:8080/",
          "height": 204
        }
      },
      "source": [
        "car_data.dtypes"
      ],
      "execution_count": null,
      "outputs": [
        {
          "output_type": "execute_result",
          "data": {
            "text/plain": [
              "Car_Name          object\n",
              "Year               int64\n",
              "Selling_Price    float64\n",
              "Present_Price    float64\n",
              "Kms_Driven         int64\n",
              "Fuel_Type         object\n",
              "Seller_Type       object\n",
              "Transmission      object\n",
              "Owner              int64\n",
              "dtype: object"
            ]
          },
          "metadata": {
            "tags": []
          },
          "execution_count": 27
        }
      ]
    },
    {
      "cell_type": "markdown",
      "metadata": {
        "id": "Aw9x4lTm2v1L"
      },
      "source": [
        "are in expected datatyped so no conversions required."
      ]
    },
    {
      "cell_type": "code",
      "metadata": {
        "id": "9VlSiyLa10IP",
        "outputId": "a003df27-5ef0-48df-8f83-69a3f8e402d5",
        "colab": {
          "base_uri": "https://localhost:8080/",
          "height": 922
        }
      },
      "source": [
        "sns.pairplot(car_data)"
      ],
      "execution_count": null,
      "outputs": [
        {
          "output_type": "execute_result",
          "data": {
            "text/plain": [
              "<seaborn.axisgrid.PairGrid at 0x7fa5a39aada0>"
            ]
          },
          "metadata": {
            "tags": []
          },
          "execution_count": 28
        },
        {
          "output_type": "display_data",
          "data": {
            "image/png": "[encoded data removed]",
            "text/plain": [
              "<Figure size 900x900 with 30 Axes>"
            ]
          },
          "metadata": {
            "tags": [],
            "needs_background": "light"
          }
        }
      ]
    },
    {
      "cell_type": "markdown",
      "metadata": {
        "id": "BhuZrtFp4wPp"
      },
      "source": [
        "i) We know that name can have no relation with the selling price so we exculde that.\n",
        "\n",
        "ii) As we can see as year increases the selling prise is also increasing so we can troansform year column into age(2020-year)  we taking year-2020 for conerting negative correlation into possitive correlation.\n",
        "\n",
        "iii)And by the above pair plot we can say that not much of multicollinearity is observed."
      ]
    },
    {
      "cell_type": "code",
      "metadata": {
        "id": "n-gjw3n8AsHJ",
        "outputId": "860c580d-567a-4479-ea66-8edede1c9e89",
        "colab": {
          "base_uri": "https://localhost:8080/",
          "height": 354
        }
      },
      "source": [
        "car_data['Year']=car_data['Year']-2020\n",
        "print(car_data[[\"Year\",\"Selling_Price\"]].corr())\n",
        "sns.regplot(x=\"Year\",y='Selling_Price',data=car_data)"
      ],
      "execution_count": null,
      "outputs": [
        {
          "output_type": "stream",
          "text": [
            "                   Year  Selling_Price\n",
            "Year           1.000000       0.236141\n",
            "Selling_Price  0.236141       1.000000\n"
          ],
          "name": "stdout"
        },
        {
          "output_type": "execute_result",
          "data": {
            "text/plain": [
              "<matplotlib.axes._subplots.AxesSubplot at 0x7fa5a01a2940>"
            ]
          },
          "metadata": {
            "tags": []
          },
          "execution_count": 29
        },
        {
          "output_type": "display_data",
          "data": {
            "image/png": "[encoded data removed]",
            "text/plain": [
              "<Figure size 432x288 with 1 Axes>"
            ]
          },
          "metadata": {
            "tags": [],
            "needs_background": "light"
          }
        }
      ]
    },
    {
      "cell_type": "markdown",
      "metadata": {
        "id": "bC4qXfbXUd8V"
      },
      "source": [
        "i) We can see the positive corelation which means newer the car is higher the price will be. Though the correlation is not so high it does have some effect."
      ]
    },
    {
      "cell_type": "code",
      "metadata": {
        "id": "UI7yowPiUUOf",
        "outputId": "fd9d1756-c1f6-47bc-a406-32f0c8c4d8a7",
        "colab": {
          "base_uri": "https://localhost:8080/",
          "height": 355
        }
      },
      "source": [
        "print((car_data[['Present_Price','Selling_Price']]).corr())\n",
        "sns.regplot(x=\"Present_Price\",y='Selling_Price',data=car_data)"
      ],
      "execution_count": null,
      "outputs": [
        {
          "output_type": "stream",
          "text": [
            "               Present_Price  Selling_Price\n",
            "Present_Price       1.000000       0.878983\n",
            "Selling_Price       0.878983       1.000000\n"
          ],
          "name": "stdout"
        },
        {
          "output_type": "execute_result",
          "data": {
            "text/plain": [
              "<matplotlib.axes._subplots.AxesSubplot at 0x7fa5a06283c8>"
            ]
          },
          "metadata": {
            "tags": []
          },
          "execution_count": 30
        },
        {
          "output_type": "display_data",
          "data": {
            "image/png": "[encoded data removed]",
            "text/plain": [
              "<Figure size 432x288 with 1 Axes>"
            ]
          },
          "metadata": {
            "tags": [],
            "needs_background": "light"
          }
        }
      ]
    },
    {
      "cell_type": "markdown",
      "metadata": {
        "id": "2o5aSGhdYwqm"
      },
      "source": [
        "i)  Good amount of correlation can be seen inbetween attributed Present price and selling price so higher the present price higher the selling price will be."
      ]
    },
    {
      "cell_type": "code",
      "metadata": {
        "id": "WTceEzm75wK0",
        "outputId": "ff1a3e1e-6dce-401f-b4b0-ef5412efe609",
        "colab": {
          "base_uri": "https://localhost:8080/",
          "height": 355
        }
      },
      "source": [
        "print((car_data[['Kms_Driven','Selling_Price']]).corr())\n",
        "sns.regplot(x=\"Kms_Driven\",y='Selling_Price',data=car_data)"
      ],
      "execution_count": null,
      "outputs": [
        {
          "output_type": "stream",
          "text": [
            "               Kms_Driven  Selling_Price\n",
            "Kms_Driven       1.000000       0.029187\n",
            "Selling_Price    0.029187       1.000000\n"
          ],
          "name": "stdout"
        },
        {
          "output_type": "execute_result",
          "data": {
            "text/plain": [
              "<matplotlib.axes._subplots.AxesSubplot at 0x7fa5a0675f28>"
            ]
          },
          "metadata": {
            "tags": []
          },
          "execution_count": 31
        },
        {
          "output_type": "display_data",
          "data": {
            "image/png": "[encoded data removed]",
            "text/plain": [
              "<Figure size 432x288 with 1 Axes>"
            ]
          },
          "metadata": {
            "tags": [],
            "needs_background": "light"
          }
        }
      ]
    },
    {
      "cell_type": "markdown",
      "metadata": {
        "id": "_5UYjXkPfzzO"
      },
      "source": [
        "i) The value of corelation between Kms driven and selling price is very small and it is positive so according to correlation value we can coclude that as kilometers driven increases the cost increases by a small value. But we know that it should be in reverse the way it is now this might be beacause of the limited dataset in which data doesnot reflect the quality described."
      ]
    },
    {
      "cell_type": "code",
      "metadata": {
        "id": "r7ZBVt9U5x6b",
        "outputId": "50f6a351-cb73-4e9a-86db-5b135be4d15a",
        "colab": {
          "base_uri": "https://localhost:8080/",
          "height": 299
        }
      },
      "source": [
        "sns.barplot(x=\"Fuel_Type\",y='Selling_Price',data=car_data)"
      ],
      "execution_count": null,
      "outputs": [
        {
          "output_type": "execute_result",
          "data": {
            "text/plain": [
              "<matplotlib.axes._subplots.AxesSubplot at 0x7fa59e91be48>"
            ]
          },
          "metadata": {
            "tags": []
          },
          "execution_count": 32
        },
        {
          "output_type": "display_data",
          "data": {
            "image/png": "[encoded data removed]",
            "text/plain": [
              "<Figure size 432x288 with 1 Axes>"
            ]
          },
          "metadata": {
            "tags": [],
            "needs_background": "light"
          }
        }
      ]
    },
    {
      "cell_type": "markdown",
      "metadata": {
        "id": "aBwO4YrrsnWL"
      },
      "source": [
        "As attribute fuel type has categorical data corelation cant be caluculated. By barplot we can say that cars of fuel type - diesel cost is more compared to petrol and cng types."
      ]
    },
    {
      "cell_type": "code",
      "metadata": {
        "id": "f4OioprNtaPO",
        "outputId": "3876de7b-5b8f-4da8-fee4-ab1eb976f13b",
        "colab": {
          "base_uri": "https://localhost:8080/",
          "height": 299
        }
      },
      "source": [
        "sns.barplot(x=\"Seller_Type\",y='Selling_Price',data=car_data)"
      ],
      "execution_count": null,
      "outputs": [
        {
          "output_type": "execute_result",
          "data": {
            "text/plain": [
              "<matplotlib.axes._subplots.AxesSubplot at 0x7fa59e806828>"
            ]
          },
          "metadata": {
            "tags": []
          },
          "execution_count": 33
        },
        {
          "output_type": "display_data",
          "data": {
            "image/png": "[encoded data removed]",
            "text/plain": [
              "<Figure size 432x288 with 1 Axes>"
            ]
          },
          "metadata": {
            "tags": [],
            "needs_background": "light"
          }
        }
      ]
    },
    {
      "cell_type": "markdown",
      "metadata": {
        "id": "Iu1QrI2Otf1P"
      },
      "source": [
        "This barplot tells us that cars sold by dealars are way costly than cars sold by individuals."
      ]
    },
    {
      "cell_type": "code",
      "metadata": {
        "id": "TEfimv6stt2h",
        "outputId": "bba5fa2a-ff10-4533-cdec-c6851e85e9e8",
        "colab": {
          "base_uri": "https://localhost:8080/",
          "height": 298
        }
      },
      "source": [
        "sns.barplot(x=\"Transmission\",y='Selling_Price',data=car_data)"
      ],
      "execution_count": null,
      "outputs": [
        {
          "output_type": "execute_result",
          "data": {
            "text/plain": [
              "<matplotlib.axes._subplots.AxesSubplot at 0x7fa59e7d01d0>"
            ]
          },
          "metadata": {
            "tags": []
          },
          "execution_count": 34
        },
        {
          "output_type": "display_data",
          "data": {
            "image/png": "[encoded data removed]",
            "text/plain": [
              "<Figure size 432x288 with 1 Axes>"
            ]
          },
          "metadata": {
            "tags": [],
            "needs_background": "light"
          }
        }
      ]
    },
    {
      "cell_type": "markdown",
      "metadata": {
        "id": "t9_Aub_ZAiec"
      },
      "source": [
        "So by this we can say that automatic trasmission gear cars are more costly manual gear trabsmission."
      ]
    },
    {
      "cell_type": "code",
      "metadata": {
        "id": "qEC0D6iCBQeu",
        "outputId": "6e5597f2-9168-46b9-e447-88000db42b79",
        "colab": {
          "base_uri": "https://localhost:8080/",
          "height": 298
        }
      },
      "source": [
        "sns.barplot(x=\"Owner\",y='Selling_Price',data=car_data)"
      ],
      "execution_count": null,
      "outputs": [
        {
          "output_type": "execute_result",
          "data": {
            "text/plain": [
              "<matplotlib.axes._subplots.AxesSubplot at 0x7fa59e737940>"
            ]
          },
          "metadata": {
            "tags": []
          },
          "execution_count": 35
        },
        {
          "output_type": "display_data",
          "data": {
            "image/png": "[encoded data removed]",
            "text/plain": [
              "<Figure size 432x288 with 1 Axes>"
            ]
          },
          "metadata": {
            "tags": [],
            "needs_background": "light"
          }
        }
      ]
    },
    {
      "cell_type": "markdown",
      "metadata": {
        "id": "1z5H2he5BwEn"
      },
      "source": [
        "Newer the car is higer the cost will be"
      ]
    },
    {
      "cell_type": "markdown",
      "metadata": {
        "id": "oYTDRrHuH3KO"
      },
      "source": [
        "...All above mentioned bargraphs represent the range of selling prices of each value in x-axis which are catogorical. The line in the center is is the range of selling prices from its center(top of the rectangle)."
      ]
    },
    {
      "cell_type": "markdown",
      "metadata": {
        "id": "d5-jOVGjFbRF"
      },
      "source": [
        "-->>As the output expected is continous and we found not much of colinearity exists between independent variables so i am going to apply linear regression."
      ]
    },
    {
      "cell_type": "markdown",
      "metadata": {
        "id": "HlGP8d8PMJ-f"
      },
      "source": [
        "# conclusions\n",
        "from above plots we can say that every variable is related to the dependent variable(selling price) among all kilometers travelled showed least correlation so we can try building a model and check which one gives us better estimates.\n",
        "\n",
        "1) with 'kms_travelled'\n",
        "\n",
        "2) without 'kms_travelled'\n",
        "\n",
        "and we can see that, though values of attribute owner are numerical they are categorical so 2 models can be made :\n",
        "\n",
        "1) taking owner attribute as numerical  \n",
        "\n",
        "2) taking owner attribute as catagorical and use dummy variables"
      ]
    },
    {
      "cell_type": "code",
      "metadata": {
        "id": "SWav4FAUQgQ9",
        "outputId": "17f1edaa-d2ac-420b-e129-cd59876a152b",
        "colab": {
          "base_uri": "https://localhost:8080/",
          "height": 73
        }
      },
      "source": [
        "car_data.columns"
      ],
      "execution_count": null,
      "outputs": [
        {
          "output_type": "execute_result",
          "data": {
            "text/plain": [
              "Index(['Car_Name', 'Year', 'Selling_Price', 'Present_Price', 'Kms_Driven',\n",
              "       'Fuel_Type', 'Seller_Type', 'Transmission', 'Owner'],\n",
              "      dtype='object')"
            ]
          },
          "metadata": {
            "tags": []
          },
          "execution_count": 36
        }
      ]
    },
    {
      "cell_type": "code",
      "metadata": {
        "id": "PkZc2I5uNT7H",
        "outputId": "e7c200f4-1417-4202-91fd-f7d7a7a1b2a7",
        "colab": {
          "base_uri": "https://localhost:8080/",
          "height": 92
        }
      },
      "source": [
        "car_data=car_data[['Year', 'Selling_Price', 'Present_Price', 'Kms_Driven','Fuel_Type', 'Seller_Type', 'Transmission', 'Owner']]\n",
        "cd_with_dummies=pd.get_dummies(car_data,drop_first=True)\n",
        "cd_with_dummies.columns"
      ],
      "execution_count": null,
      "outputs": [
        {
          "output_type": "execute_result",
          "data": {
            "text/plain": [
              "Index(['Year', 'Selling_Price', 'Present_Price', 'Kms_Driven', 'Owner',\n",
              "       'Fuel_Type_Diesel', 'Fuel_Type_Petrol', 'Seller_Type_Individual',\n",
              "       'Transmission_Manual'],\n",
              "      dtype='object')"
            ]
          },
          "metadata": {
            "tags": []
          },
          "execution_count": 37
        }
      ]
    },
    {
      "cell_type": "markdown",
      "metadata": {
        "id": "itvobQxCLDv0"
      },
      "source": [
        "1)  taking owner attribute as numerical  and ignoring kms_travelled"
      ]
    },
    {
      "cell_type": "code",
      "metadata": {
        "id": "1en_I4C_7pfu",
        "outputId": "a2bfdccc-6a93-4561-b283-38bbd64d5179",
        "colab": {
          "base_uri": "https://localhost:8080/",
          "height": 424
        }
      },
      "source": [
        "y1=cd_with_dummies['Selling_Price']\n",
        "x1=cd_with_dummies[['Year', 'Present_Price', 'Owner','Fuel_Type_Diesel', 'Fuel_Type_Petrol', 'Seller_Type_Individual','Transmission_Manual']]\n",
        "x1"
      ],
      "execution_count": null,
      "outputs": [
        {
          "output_type": "execute_result",
          "data": {
            "text/html": [
              "<div>\n",
              "<style scoped>\n",
              "    .dataframe tbody tr th:only-of-type {\n",
              "        vertical-align: middle;\n",
              "    }\n",
              "\n",
              "    .dataframe tbody tr th {\n",
              "        vertical-align: top;\n",
              "    }\n",
              "\n",
              "    .dataframe thead th {\n",
              "        text-align: right;\n",
              "    }\n",
              "</style>\n",
              "<table border=\"1\" class=\"dataframe\">\n",
              "  <thead>\n",
              "    <tr style=\"text-align: right;\">\n",
              "      <th></th>\n",
              "      <th>Year</th>\n",
              "      <th>Present_Price</th>\n",
              "      <th>Owner</th>\n",
              "      <th>Fuel_Type_Diesel</th>\n",
              "      <th>Fuel_Type_Petrol</th>\n",
              "      <th>Seller_Type_Individual</th>\n",
              "      <th>Transmission_Manual</th>\n",
              "    </tr>\n",
              "  </thead>\n",
              "  <tbody>\n",
              "    <tr>\n",
              "      <th>0</th>\n",
              "      <td>-6</td>\n",
              "      <td>5.59</td>\n",
              "      <td>0</td>\n",
              "      <td>0</td>\n",
              "      <td>1</td>\n",
              "      <td>0</td>\n",
              "      <td>1</td>\n",
              "    </tr>\n",
              "    <tr>\n",
              "      <th>1</th>\n",
              "      <td>-7</td>\n",
              "      <td>9.54</td>\n",
              "      <td>0</td>\n",
              "      <td>1</td>\n",
              "      <td>0</td>\n",
              "      <td>0</td>\n",
              "      <td>1</td>\n",
              "    </tr>\n",
              "    <tr>\n",
              "      <th>2</th>\n",
              "      <td>-3</td>\n",
              "      <td>9.85</td>\n",
              "      <td>0</td>\n",
              "      <td>0</td>\n",
              "      <td>1</td>\n",
              "      <td>0</td>\n",
              "      <td>1</td>\n",
              "    </tr>\n",
              "    <tr>\n",
              "      <th>3</th>\n",
              "      <td>-9</td>\n",
              "      <td>4.15</td>\n",
              "      <td>0</td>\n",
              "      <td>0</td>\n",
              "      <td>1</td>\n",
              "      <td>0</td>\n",
              "      <td>1</td>\n",
              "    </tr>\n",
              "    <tr>\n",
              "      <th>4</th>\n",
              "      <td>-6</td>\n",
              "      <td>6.87</td>\n",
              "      <td>0</td>\n",
              "      <td>1</td>\n",
              "      <td>0</td>\n",
              "      <td>0</td>\n",
              "      <td>1</td>\n",
              "    </tr>\n",
              "    <tr>\n",
              "      <th>...</th>\n",
              "      <td>...</td>\n",
              "      <td>...</td>\n",
              "      <td>...</td>\n",
              "      <td>...</td>\n",
              "      <td>...</td>\n",
              "      <td>...</td>\n",
              "      <td>...</td>\n",
              "    </tr>\n",
              "    <tr>\n",
              "      <th>296</th>\n",
              "      <td>-4</td>\n",
              "      <td>11.60</td>\n",
              "      <td>0</td>\n",
              "      <td>1</td>\n",
              "      <td>0</td>\n",
              "      <td>0</td>\n",
              "      <td>1</td>\n",
              "    </tr>\n",
              "    <tr>\n",
              "      <th>297</th>\n",
              "      <td>-5</td>\n",
              "      <td>5.90</td>\n",
              "      <td>0</td>\n",
              "      <td>0</td>\n",
              "      <td>1</td>\n",
              "      <td>0</td>\n",
              "      <td>1</td>\n",
              "    </tr>\n",
              "    <tr>\n",
              "      <th>298</th>\n",
              "      <td>-11</td>\n",
              "      <td>11.00</td>\n",
              "      <td>0</td>\n",
              "      <td>0</td>\n",
              "      <td>1</td>\n",
              "      <td>0</td>\n",
              "      <td>1</td>\n",
              "    </tr>\n",
              "    <tr>\n",
              "      <th>299</th>\n",
              "      <td>-3</td>\n",
              "      <td>12.50</td>\n",
              "      <td>0</td>\n",
              "      <td>1</td>\n",
              "      <td>0</td>\n",
              "      <td>0</td>\n",
              "      <td>1</td>\n",
              "    </tr>\n",
              "    <tr>\n",
              "      <th>300</th>\n",
              "      <td>-4</td>\n",
              "      <td>5.90</td>\n",
              "      <td>0</td>\n",
              "      <td>0</td>\n",
              "      <td>1</td>\n",
              "      <td>0</td>\n",
              "      <td>1</td>\n",
              "    </tr>\n",
              "  </tbody>\n",
              "</table>\n",
              "<p>301 rows × 7 columns</p>\n",
              "</div>"
            ],
            "text/plain": [
              "     Year  Present_Price  ...  Seller_Type_Individual  Transmission_Manual\n",
              "0      -6           5.59  ...                       0                    1\n",
              "1      -7           9.54  ...                       0                    1\n",
              "2      -3           9.85  ...                       0                    1\n",
              "3      -9           4.15  ...                       0                    1\n",
              "4      -6           6.87  ...                       0                    1\n",
              "..    ...            ...  ...                     ...                  ...\n",
              "296    -4          11.60  ...                       0                    1\n",
              "297    -5           5.90  ...                       0                    1\n",
              "298   -11          11.00  ...                       0                    1\n",
              "299    -3          12.50  ...                       0                    1\n",
              "300    -4           5.90  ...                       0                    1\n",
              "\n",
              "[301 rows x 7 columns]"
            ]
          },
          "metadata": {
            "tags": []
          },
          "execution_count": 73
        }
      ]
    },
    {
      "cell_type": "code",
      "metadata": {
        "id": "x5C4CONILn3n"
      },
      "source": [
        "from sklearn.linear_model  import LinearRegression\n",
        "from sklearn.model_selection import train_test_split\n",
        "from sklearn.metrics import mean_squared_error\n",
        "from sklearn.metrics import r2_score"
      ],
      "execution_count": null,
      "outputs": []
    },
    {
      "cell_type": "code",
      "metadata": {
        "id": "osMsQ92pOJKw"
      },
      "source": [
        "x1_train, x1_test, y1_train, y1_test = train_test_split(x1, y1, test_size=0.2, random_state=0)"
      ],
      "execution_count": null,
      "outputs": []
    },
    {
      "cell_type": "code",
      "metadata": {
        "id": "4yG2RCNLOSl9",
        "outputId": "e354d713-ae28-4a44-c9ea-19df1014e5a1",
        "colab": {
          "base_uri": "https://localhost:8080/",
          "height": 36
        }
      },
      "source": [
        "reg=LinearRegression()\n",
        "reg.fit(x1_train,y1_train)"
      ],
      "execution_count": null,
      "outputs": [
        {
          "output_type": "execute_result",
          "data": {
            "text/plain": [
              "LinearRegression(copy_X=True, fit_intercept=True, n_jobs=None, normalize=False)"
            ]
          },
          "metadata": {
            "tags": []
          },
          "execution_count": 45
        }
      ]
    },
    {
      "cell_type": "code",
      "metadata": {
        "id": "XIz_uadpOZbt",
        "outputId": "163b4fab-99a8-4c13-cd70-40913b01bcb9",
        "colab": {
          "base_uri": "https://localhost:8080/",
          "height": 73
        }
      },
      "source": [
        "print(reg.intercept_)\n",
        "print(reg.coef_)"
      ],
      "execution_count": null,
      "outputs": [
        {
          "output_type": "stream",
          "text": [
            "4.668378690093171\n",
            "[ 0.4284824   0.42582322 -0.9586005   2.42568204  0.61156513 -1.11948485\n",
            " -1.30065782]\n"
          ],
          "name": "stdout"
        }
      ]
    },
    {
      "cell_type": "code",
      "metadata": {
        "id": "IiC3DfIwOica",
        "outputId": "63e230f2-809d-4b4c-b9ee-f4aa0f301899",
        "colab": {
          "base_uri": "https://localhost:8080/",
          "height": 36
        }
      },
      "source": [
        "mean_squared_error(y_true=y1_train, y_pred=reg.predict(x1_train))"
      ],
      "execution_count": null,
      "outputs": [
        {
          "output_type": "execute_result",
          "data": {
            "text/plain": [
              "3.306272667304246"
            ]
          },
          "metadata": {
            "tags": []
          },
          "execution_count": 47
        }
      ]
    },
    {
      "cell_type": "code",
      "metadata": {
        "id": "qTMIt77eOq22",
        "outputId": "453d9ca1-8601-4e6f-e089-a007a27ffed6",
        "colab": {
          "base_uri": "https://localhost:8080/",
          "height": 36
        }
      },
      "source": [
        "r2_score(y_true=y1_train, y_pred=reg.predict(x1_train))"
      ],
      "execution_count": null,
      "outputs": [
        {
          "output_type": "execute_result",
          "data": {
            "text/plain": [
              "0.8717051916959566"
            ]
          },
          "metadata": {
            "tags": []
          },
          "execution_count": 48
        }
      ]
    },
    {
      "cell_type": "code",
      "metadata": {
        "id": "moFEC_Ev48Px",
        "outputId": "581fbf88-4475-452f-af94-ce83a2645001",
        "colab": {
          "base_uri": "https://localhost:8080/",
          "height": 36
        }
      },
      "source": [
        "mean_squared_error(y_true=y1_test, y_pred=reg.predict(x1_test))"
      ],
      "execution_count": null,
      "outputs": [
        {
          "output_type": "execute_result",
          "data": {
            "text/plain": [
              "2.2379931905684907"
            ]
          },
          "metadata": {
            "tags": []
          },
          "execution_count": 49
        }
      ]
    },
    {
      "cell_type": "code",
      "metadata": {
        "id": "rq2sKgQ5aWVp",
        "outputId": "0eb05b11-748c-445f-9066-3cec730a1066",
        "colab": {
          "base_uri": "https://localhost:8080/",
          "height": 36
        }
      },
      "source": [
        "r2_score(y_true=y1_test, y_pred=reg.predict(x1_test))"
      ],
      "execution_count": null,
      "outputs": [
        {
          "output_type": "execute_result",
          "data": {
            "text/plain": [
              "0.9114623972338541"
            ]
          },
          "metadata": {
            "tags": []
          },
          "execution_count": 51
        }
      ]
    },
    {
      "cell_type": "markdown",
      "metadata": {
        "id": "P-118O3t44Mt"
      },
      "source": [
        "by R squared value we can say that our regression line or model is able to predict 91 ppercent correctly on unseen data(test data) which is a good sign."
      ]
    },
    {
      "cell_type": "markdown",
      "metadata": {
        "id": "9nFxDR1XaTJ3"
      },
      "source": [
        "2) taking dummy variable of owner attribute as  and ignoring kms_travelled"
      ]
    },
    {
      "cell_type": "code",
      "metadata": {
        "id": "JnoHVTDE43Ov",
        "outputId": "ea0f29c8-56f6-45ca-dd1d-9f0ed4a3b714",
        "colab": {
          "base_uri": "https://localhost:8080/",
          "height": 242
        }
      },
      "source": [
        "y2=y1\n",
        "y2"
      ],
      "execution_count": null,
      "outputs": [
        {
          "output_type": "execute_result",
          "data": {
            "text/plain": [
              "0       3.35\n",
              "1       4.75\n",
              "2       7.25\n",
              "3       2.85\n",
              "4       4.60\n",
              "       ...  \n",
              "296     9.50\n",
              "297     4.00\n",
              "298     3.35\n",
              "299    11.50\n",
              "300     5.30\n",
              "Name: Selling_Price, Length: 301, dtype: float64"
            ]
          },
          "metadata": {
            "tags": []
          },
          "execution_count": 53
        }
      ]
    },
    {
      "cell_type": "code",
      "metadata": {
        "id": "ZcrXWPGHO34t",
        "outputId": "785bacf8-8668-4d98-880d-780fea2de379",
        "colab": {
          "base_uri": "https://localhost:8080/",
          "height": 537
        }
      },
      "source": [
        "x2=x1\n",
        "x2[\"Owner\"].replace({1:'one',0:'zero',3:'three'},inplace=True)\n",
        "x2"
      ],
      "execution_count": null,
      "outputs": [
        {
          "output_type": "stream",
          "text": [
            "/usr/local/lib/python3.6/dist-packages/pandas/core/series.py:4569: SettingWithCopyWarning: \n",
            "A value is trying to be set on a copy of a slice from a DataFrame\n",
            "\n",
            "See the caveats in the documentation: https://pandas.pydata.org/pandas-docs/stable/user_guide/indexing.html#returning-a-view-versus-a-copy\n",
            "  method=method,\n"
          ],
          "name": "stderr"
        },
        {
          "output_type": "execute_result",
          "data": {
            "text/html": [
              "<div>\n",
              "<style scoped>\n",
              "    .dataframe tbody tr th:only-of-type {\n",
              "        vertical-align: middle;\n",
              "    }\n",
              "\n",
              "    .dataframe tbody tr th {\n",
              "        vertical-align: top;\n",
              "    }\n",
              "\n",
              "    .dataframe thead th {\n",
              "        text-align: right;\n",
              "    }\n",
              "</style>\n",
              "<table border=\"1\" class=\"dataframe\">\n",
              "  <thead>\n",
              "    <tr style=\"text-align: right;\">\n",
              "      <th></th>\n",
              "      <th>Year</th>\n",
              "      <th>Present_Price</th>\n",
              "      <th>Owner</th>\n",
              "      <th>Fuel_Type_Diesel</th>\n",
              "      <th>Fuel_Type_Petrol</th>\n",
              "      <th>Seller_Type_Individual</th>\n",
              "      <th>Transmission_Manual</th>\n",
              "    </tr>\n",
              "  </thead>\n",
              "  <tbody>\n",
              "    <tr>\n",
              "      <th>0</th>\n",
              "      <td>-6</td>\n",
              "      <td>5.59</td>\n",
              "      <td>zero</td>\n",
              "      <td>0</td>\n",
              "      <td>1</td>\n",
              "      <td>0</td>\n",
              "      <td>1</td>\n",
              "    </tr>\n",
              "    <tr>\n",
              "      <th>1</th>\n",
              "      <td>-7</td>\n",
              "      <td>9.54</td>\n",
              "      <td>zero</td>\n",
              "      <td>1</td>\n",
              "      <td>0</td>\n",
              "      <td>0</td>\n",
              "      <td>1</td>\n",
              "    </tr>\n",
              "    <tr>\n",
              "      <th>2</th>\n",
              "      <td>-3</td>\n",
              "      <td>9.85</td>\n",
              "      <td>zero</td>\n",
              "      <td>0</td>\n",
              "      <td>1</td>\n",
              "      <td>0</td>\n",
              "      <td>1</td>\n",
              "    </tr>\n",
              "    <tr>\n",
              "      <th>3</th>\n",
              "      <td>-9</td>\n",
              "      <td>4.15</td>\n",
              "      <td>zero</td>\n",
              "      <td>0</td>\n",
              "      <td>1</td>\n",
              "      <td>0</td>\n",
              "      <td>1</td>\n",
              "    </tr>\n",
              "    <tr>\n",
              "      <th>4</th>\n",
              "      <td>-6</td>\n",
              "      <td>6.87</td>\n",
              "      <td>zero</td>\n",
              "      <td>1</td>\n",
              "      <td>0</td>\n",
              "      <td>0</td>\n",
              "      <td>1</td>\n",
              "    </tr>\n",
              "    <tr>\n",
              "      <th>...</th>\n",
              "      <td>...</td>\n",
              "      <td>...</td>\n",
              "      <td>...</td>\n",
              "      <td>...</td>\n",
              "      <td>...</td>\n",
              "      <td>...</td>\n",
              "      <td>...</td>\n",
              "    </tr>\n",
              "    <tr>\n",
              "      <th>296</th>\n",
              "      <td>-4</td>\n",
              "      <td>11.60</td>\n",
              "      <td>zero</td>\n",
              "      <td>1</td>\n",
              "      <td>0</td>\n",
              "      <td>0</td>\n",
              "      <td>1</td>\n",
              "    </tr>\n",
              "    <tr>\n",
              "      <th>297</th>\n",
              "      <td>-5</td>\n",
              "      <td>5.90</td>\n",
              "      <td>zero</td>\n",
              "      <td>0</td>\n",
              "      <td>1</td>\n",
              "      <td>0</td>\n",
              "      <td>1</td>\n",
              "    </tr>\n",
              "    <tr>\n",
              "      <th>298</th>\n",
              "      <td>-11</td>\n",
              "      <td>11.00</td>\n",
              "      <td>zero</td>\n",
              "      <td>0</td>\n",
              "      <td>1</td>\n",
              "      <td>0</td>\n",
              "      <td>1</td>\n",
              "    </tr>\n",
              "    <tr>\n",
              "      <th>299</th>\n",
              "      <td>-3</td>\n",
              "      <td>12.50</td>\n",
              "      <td>zero</td>\n",
              "      <td>1</td>\n",
              "      <td>0</td>\n",
              "      <td>0</td>\n",
              "      <td>1</td>\n",
              "    </tr>\n",
              "    <tr>\n",
              "      <th>300</th>\n",
              "      <td>-4</td>\n",
              "      <td>5.90</td>\n",
              "      <td>zero</td>\n",
              "      <td>0</td>\n",
              "      <td>1</td>\n",
              "      <td>0</td>\n",
              "      <td>1</td>\n",
              "    </tr>\n",
              "  </tbody>\n",
              "</table>\n",
              "<p>301 rows × 7 columns</p>\n",
              "</div>"
            ],
            "text/plain": [
              "     Year  Present_Price  ... Seller_Type_Individual  Transmission_Manual\n",
              "0      -6           5.59  ...                      0                    1\n",
              "1      -7           9.54  ...                      0                    1\n",
              "2      -3           9.85  ...                      0                    1\n",
              "3      -9           4.15  ...                      0                    1\n",
              "4      -6           6.87  ...                      0                    1\n",
              "..    ...            ...  ...                    ...                  ...\n",
              "296    -4          11.60  ...                      0                    1\n",
              "297    -5           5.90  ...                      0                    1\n",
              "298   -11          11.00  ...                      0                    1\n",
              "299    -3          12.50  ...                      0                    1\n",
              "300    -4           5.90  ...                      0                    1\n",
              "\n",
              "[301 rows x 7 columns]"
            ]
          },
          "metadata": {
            "tags": []
          },
          "execution_count": 85
        }
      ]
    },
    {
      "cell_type": "code",
      "metadata": {
        "id": "Z83HfVx7f_-x",
        "outputId": "356ebc13-4c00-4443-b8c8-5afb056a0af4",
        "colab": {
          "base_uri": "https://localhost:8080/",
          "height": 424
        }
      },
      "source": [
        "x2=pd.get_dummies(x2,drop_first=True)\n",
        "x2"
      ],
      "execution_count": null,
      "outputs": [
        {
          "output_type": "execute_result",
          "data": {
            "text/html": [
              "<div>\n",
              "<style scoped>\n",
              "    .dataframe tbody tr th:only-of-type {\n",
              "        vertical-align: middle;\n",
              "    }\n",
              "\n",
              "    .dataframe tbody tr th {\n",
              "        vertical-align: top;\n",
              "    }\n",
              "\n",
              "    .dataframe thead th {\n",
              "        text-align: right;\n",
              "    }\n",
              "</style>\n",
              "<table border=\"1\" class=\"dataframe\">\n",
              "  <thead>\n",
              "    <tr style=\"text-align: right;\">\n",
              "      <th></th>\n",
              "      <th>Year</th>\n",
              "      <th>Present_Price</th>\n",
              "      <th>Fuel_Type_Diesel</th>\n",
              "      <th>Fuel_Type_Petrol</th>\n",
              "      <th>Seller_Type_Individual</th>\n",
              "      <th>Transmission_Manual</th>\n",
              "      <th>Owner_three</th>\n",
              "      <th>Owner_zero</th>\n",
              "    </tr>\n",
              "  </thead>\n",
              "  <tbody>\n",
              "    <tr>\n",
              "      <th>0</th>\n",
              "      <td>-6</td>\n",
              "      <td>5.59</td>\n",
              "      <td>0</td>\n",
              "      <td>1</td>\n",
              "      <td>0</td>\n",
              "      <td>1</td>\n",
              "      <td>0</td>\n",
              "      <td>1</td>\n",
              "    </tr>\n",
              "    <tr>\n",
              "      <th>1</th>\n",
              "      <td>-7</td>\n",
              "      <td>9.54</td>\n",
              "      <td>1</td>\n",
              "      <td>0</td>\n",
              "      <td>0</td>\n",
              "      <td>1</td>\n",
              "      <td>0</td>\n",
              "      <td>1</td>\n",
              "    </tr>\n",
              "    <tr>\n",
              "      <th>2</th>\n",
              "      <td>-3</td>\n",
              "      <td>9.85</td>\n",
              "      <td>0</td>\n",
              "      <td>1</td>\n",
              "      <td>0</td>\n",
              "      <td>1</td>\n",
              "      <td>0</td>\n",
              "      <td>1</td>\n",
              "    </tr>\n",
              "    <tr>\n",
              "      <th>3</th>\n",
              "      <td>-9</td>\n",
              "      <td>4.15</td>\n",
              "      <td>0</td>\n",
              "      <td>1</td>\n",
              "      <td>0</td>\n",
              "      <td>1</td>\n",
              "      <td>0</td>\n",
              "      <td>1</td>\n",
              "    </tr>\n",
              "    <tr>\n",
              "      <th>4</th>\n",
              "      <td>-6</td>\n",
              "      <td>6.87</td>\n",
              "      <td>1</td>\n",
              "      <td>0</td>\n",
              "      <td>0</td>\n",
              "      <td>1</td>\n",
              "      <td>0</td>\n",
              "      <td>1</td>\n",
              "    </tr>\n",
              "    <tr>\n",
              "      <th>...</th>\n",
              "      <td>...</td>\n",
              "      <td>...</td>\n",
              "      <td>...</td>\n",
              "      <td>...</td>\n",
              "      <td>...</td>\n",
              "      <td>...</td>\n",
              "      <td>...</td>\n",
              "      <td>...</td>\n",
              "    </tr>\n",
              "    <tr>\n",
              "      <th>296</th>\n",
              "      <td>-4</td>\n",
              "      <td>11.60</td>\n",
              "      <td>1</td>\n",
              "      <td>0</td>\n",
              "      <td>0</td>\n",
              "      <td>1</td>\n",
              "      <td>0</td>\n",
              "      <td>1</td>\n",
              "    </tr>\n",
              "    <tr>\n",
              "      <th>297</th>\n",
              "      <td>-5</td>\n",
              "      <td>5.90</td>\n",
              "      <td>0</td>\n",
              "      <td>1</td>\n",
              "      <td>0</td>\n",
              "      <td>1</td>\n",
              "      <td>0</td>\n",
              "      <td>1</td>\n",
              "    </tr>\n",
              "    <tr>\n",
              "      <th>298</th>\n",
              "      <td>-11</td>\n",
              "      <td>11.00</td>\n",
              "      <td>0</td>\n",
              "      <td>1</td>\n",
              "      <td>0</td>\n",
              "      <td>1</td>\n",
              "      <td>0</td>\n",
              "      <td>1</td>\n",
              "    </tr>\n",
              "    <tr>\n",
              "      <th>299</th>\n",
              "      <td>-3</td>\n",
              "      <td>12.50</td>\n",
              "      <td>1</td>\n",
              "      <td>0</td>\n",
              "      <td>0</td>\n",
              "      <td>1</td>\n",
              "      <td>0</td>\n",
              "      <td>1</td>\n",
              "    </tr>\n",
              "    <tr>\n",
              "      <th>300</th>\n",
              "      <td>-4</td>\n",
              "      <td>5.90</td>\n",
              "      <td>0</td>\n",
              "      <td>1</td>\n",
              "      <td>0</td>\n",
              "      <td>1</td>\n",
              "      <td>0</td>\n",
              "      <td>1</td>\n",
              "    </tr>\n",
              "  </tbody>\n",
              "</table>\n",
              "<p>301 rows × 8 columns</p>\n",
              "</div>"
            ],
            "text/plain": [
              "     Year  Present_Price  ...  Owner_three  Owner_zero\n",
              "0      -6           5.59  ...            0           1\n",
              "1      -7           9.54  ...            0           1\n",
              "2      -3           9.85  ...            0           1\n",
              "3      -9           4.15  ...            0           1\n",
              "4      -6           6.87  ...            0           1\n",
              "..    ...            ...  ...          ...         ...\n",
              "296    -4          11.60  ...            0           1\n",
              "297    -5           5.90  ...            0           1\n",
              "298   -11          11.00  ...            0           1\n",
              "299    -3          12.50  ...            0           1\n",
              "300    -4           5.90  ...            0           1\n",
              "\n",
              "[301 rows x 8 columns]"
            ]
          },
          "metadata": {
            "tags": []
          },
          "execution_count": 86
        }
      ]
    },
    {
      "cell_type": "code",
      "metadata": {
        "id": "JrU5Zv2xciv4",
        "outputId": "619a98ee-ff98-4a5a-f27b-03f5ecabc7b7",
        "colab": {
          "base_uri": "https://localhost:8080/",
          "height": 36
        }
      },
      "source": [
        "x2_train, x2_test, y2_train, y2_test = train_test_split(x2, y2, test_size=0.2, random_state=0)\n",
        "reg2=LinearRegression()\n",
        "reg2.fit(x2_train,y2_train)"
      ],
      "execution_count": null,
      "outputs": [
        {
          "output_type": "execute_result",
          "data": {
            "text/plain": [
              "LinearRegression(copy_X=True, fit_intercept=True, n_jobs=None, normalize=False)"
            ]
          },
          "metadata": {
            "tags": []
          },
          "execution_count": 102
        }
      ]
    },
    {
      "cell_type": "code",
      "metadata": {
        "id": "uAVtTjkXh2c8",
        "outputId": "5cff79fe-21fa-4e4b-f6a5-09a49d058581",
        "colab": {
          "base_uri": "https://localhost:8080/",
          "height": 73
        }
      },
      "source": [
        "reg2.coef_"
      ],
      "execution_count": null,
      "outputs": [
        {
          "output_type": "execute_result",
          "data": {
            "text/plain": [
              "array([ 3.87817403e-01,  4.30712413e-01,  2.42039017e+00,  5.51288629e-01,\n",
              "       -1.14147250e+00, -1.53044037e+00, -6.50892284e+00, -7.65922863e-01,\n",
              "       -5.44397659e-06])"
            ]
          },
          "metadata": {
            "tags": []
          },
          "execution_count": 103
        }
      ]
    },
    {
      "cell_type": "code",
      "metadata": {
        "id": "UYnfm_5Qh7dJ",
        "outputId": "d831e178-9661-4144-eeb7-d84f20882b5e",
        "colab": {
          "base_uri": "https://localhost:8080/",
          "height": 36
        }
      },
      "source": [
        "reg2.intercept_"
      ],
      "execution_count": null,
      "outputs": [
        {
          "output_type": "execute_result",
          "data": {
            "text/plain": [
              "5.58078948173715"
            ]
          },
          "metadata": {
            "tags": []
          },
          "execution_count": 104
        }
      ]
    },
    {
      "cell_type": "code",
      "metadata": {
        "id": "CP17BoPch-YE",
        "outputId": "6afc24a9-f1f6-4238-de61-2e4a896c3db7",
        "colab": {
          "base_uri": "https://localhost:8080/",
          "height": 36
        }
      },
      "source": [
        "mean_squared_error(y_true=y2_train, y_pred=reg2.predict(x2_train))"
      ],
      "execution_count": null,
      "outputs": [
        {
          "output_type": "execute_result",
          "data": {
            "text/plain": [
              "3.1702682875264987"
            ]
          },
          "metadata": {
            "tags": []
          },
          "execution_count": 105
        }
      ]
    },
    {
      "cell_type": "code",
      "metadata": {
        "id": "9L-1QGKwiUaQ",
        "outputId": "fe3b1622-30f6-4806-ddd1-791aa2b71b1f",
        "colab": {
          "base_uri": "https://localhost:8080/",
          "height": 36
        }
      },
      "source": [
        "r2_score(y_true=y2_train,y_pred=reg2.predict(x2_train))"
      ],
      "execution_count": null,
      "outputs": [
        {
          "output_type": "execute_result",
          "data": {
            "text/plain": [
              "0.8769826317584918"
            ]
          },
          "metadata": {
            "tags": []
          },
          "execution_count": 107
        }
      ]
    },
    {
      "cell_type": "code",
      "metadata": {
        "id": "7LufRWz5ikhi",
        "outputId": "a6d06614-cd63-451d-c820-9dfd3e7745ff",
        "colab": {
          "base_uri": "https://localhost:8080/",
          "height": 36
        }
      },
      "source": [
        "mean_squared_error(y_true=y2_test, y_pred=reg2.predict(x2_test))"
      ],
      "execution_count": null,
      "outputs": [
        {
          "output_type": "execute_result",
          "data": {
            "text/plain": [
              "2.1170164430622362"
            ]
          },
          "metadata": {
            "tags": []
          },
          "execution_count": 96
        }
      ]
    },
    {
      "cell_type": "code",
      "metadata": {
        "id": "ZVelgzovizng",
        "outputId": "e7c63447-90c6-4b5b-b5df-68b1003a597c",
        "colab": {
          "base_uri": "https://localhost:8080/",
          "height": 36
        }
      },
      "source": [
        "r2_score(y_true=y2_test, y_pred=reg2.predict(x2_test))"
      ],
      "execution_count": null,
      "outputs": [
        {
          "output_type": "execute_result",
          "data": {
            "text/plain": [
              "0.9179827767356279"
            ]
          },
          "metadata": {
            "tags": []
          },
          "execution_count": 108
        }
      ]
    },
    {
      "cell_type": "markdown",
      "metadata": {
        "id": "f1d3Fxq_i-as"
      },
      "source": [
        "upon taking dummy variables for owner attribute we can see a slight elvation in Rsquared values of both test and train datasets and mean square error has also decreased a bit. So this a bit better model as data is well prossed."
      ]
    },
    {
      "cell_type": "markdown",
      "metadata": {
        "id": "nkPey5gbj9QT"
      },
      "source": [
        "3) now lets include kms driven and see its effect"
      ]
    },
    {
      "cell_type": "code",
      "metadata": {
        "id": "RV1AzgMPi6ym",
        "outputId": "7605bb4f-a245-4993-dd8d-57b9f03584c0",
        "colab": {
          "base_uri": "https://localhost:8080/",
          "height": 444
        }
      },
      "source": [
        "y3=y2\n",
        "x3=x2\n",
        "x3[\"Kms_Driven\"]=car_data['Kms_Driven']\n",
        "x3"
      ],
      "execution_count": null,
      "outputs": [
        {
          "output_type": "execute_result",
          "data": {
            "text/html": [
              "<div>\n",
              "<style scoped>\n",
              "    .dataframe tbody tr th:only-of-type {\n",
              "        vertical-align: middle;\n",
              "    }\n",
              "\n",
              "    .dataframe tbody tr th {\n",
              "        vertical-align: top;\n",
              "    }\n",
              "\n",
              "    .dataframe thead th {\n",
              "        text-align: right;\n",
              "    }\n",
              "</style>\n",
              "<table border=\"1\" class=\"dataframe\">\n",
              "  <thead>\n",
              "    <tr style=\"text-align: right;\">\n",
              "      <th></th>\n",
              "      <th>Year</th>\n",
              "      <th>Present_Price</th>\n",
              "      <th>Fuel_Type_Diesel</th>\n",
              "      <th>Fuel_Type_Petrol</th>\n",
              "      <th>Seller_Type_Individual</th>\n",
              "      <th>Transmission_Manual</th>\n",
              "      <th>Owner_three</th>\n",
              "      <th>Owner_zero</th>\n",
              "      <th>Kms_Driven</th>\n",
              "    </tr>\n",
              "  </thead>\n",
              "  <tbody>\n",
              "    <tr>\n",
              "      <th>0</th>\n",
              "      <td>-6</td>\n",
              "      <td>5.59</td>\n",
              "      <td>0</td>\n",
              "      <td>1</td>\n",
              "      <td>0</td>\n",
              "      <td>1</td>\n",
              "      <td>0</td>\n",
              "      <td>1</td>\n",
              "      <td>27000</td>\n",
              "    </tr>\n",
              "    <tr>\n",
              "      <th>1</th>\n",
              "      <td>-7</td>\n",
              "      <td>9.54</td>\n",
              "      <td>1</td>\n",
              "      <td>0</td>\n",
              "      <td>0</td>\n",
              "      <td>1</td>\n",
              "      <td>0</td>\n",
              "      <td>1</td>\n",
              "      <td>43000</td>\n",
              "    </tr>\n",
              "    <tr>\n",
              "      <th>2</th>\n",
              "      <td>-3</td>\n",
              "      <td>9.85</td>\n",
              "      <td>0</td>\n",
              "      <td>1</td>\n",
              "      <td>0</td>\n",
              "      <td>1</td>\n",
              "      <td>0</td>\n",
              "      <td>1</td>\n",
              "      <td>6900</td>\n",
              "    </tr>\n",
              "    <tr>\n",
              "      <th>3</th>\n",
              "      <td>-9</td>\n",
              "      <td>4.15</td>\n",
              "      <td>0</td>\n",
              "      <td>1</td>\n",
              "      <td>0</td>\n",
              "      <td>1</td>\n",
              "      <td>0</td>\n",
              "      <td>1</td>\n",
              "      <td>5200</td>\n",
              "    </tr>\n",
              "    <tr>\n",
              "      <th>4</th>\n",
              "      <td>-6</td>\n",
              "      <td>6.87</td>\n",
              "      <td>1</td>\n",
              "      <td>0</td>\n",
              "      <td>0</td>\n",
              "      <td>1</td>\n",
              "      <td>0</td>\n",
              "      <td>1</td>\n",
              "      <td>42450</td>\n",
              "    </tr>\n",
              "    <tr>\n",
              "      <th>...</th>\n",
              "      <td>...</td>\n",
              "      <td>...</td>\n",
              "      <td>...</td>\n",
              "      <td>...</td>\n",
              "      <td>...</td>\n",
              "      <td>...</td>\n",
              "      <td>...</td>\n",
              "      <td>...</td>\n",
              "      <td>...</td>\n",
              "    </tr>\n",
              "    <tr>\n",
              "      <th>296</th>\n",
              "      <td>-4</td>\n",
              "      <td>11.60</td>\n",
              "      <td>1</td>\n",
              "      <td>0</td>\n",
              "      <td>0</td>\n",
              "      <td>1</td>\n",
              "      <td>0</td>\n",
              "      <td>1</td>\n",
              "      <td>33988</td>\n",
              "    </tr>\n",
              "    <tr>\n",
              "      <th>297</th>\n",
              "      <td>-5</td>\n",
              "      <td>5.90</td>\n",
              "      <td>0</td>\n",
              "      <td>1</td>\n",
              "      <td>0</td>\n",
              "      <td>1</td>\n",
              "      <td>0</td>\n",
              "      <td>1</td>\n",
              "      <td>60000</td>\n",
              "    </tr>\n",
              "    <tr>\n",
              "      <th>298</th>\n",
              "      <td>-11</td>\n",
              "      <td>11.00</td>\n",
              "      <td>0</td>\n",
              "      <td>1</td>\n",
              "      <td>0</td>\n",
              "      <td>1</td>\n",
              "      <td>0</td>\n",
              "      <td>1</td>\n",
              "      <td>87934</td>\n",
              "    </tr>\n",
              "    <tr>\n",
              "      <th>299</th>\n",
              "      <td>-3</td>\n",
              "      <td>12.50</td>\n",
              "      <td>1</td>\n",
              "      <td>0</td>\n",
              "      <td>0</td>\n",
              "      <td>1</td>\n",
              "      <td>0</td>\n",
              "      <td>1</td>\n",
              "      <td>9000</td>\n",
              "    </tr>\n",
              "    <tr>\n",
              "      <th>300</th>\n",
              "      <td>-4</td>\n",
              "      <td>5.90</td>\n",
              "      <td>0</td>\n",
              "      <td>1</td>\n",
              "      <td>0</td>\n",
              "      <td>1</td>\n",
              "      <td>0</td>\n",
              "      <td>1</td>\n",
              "      <td>5464</td>\n",
              "    </tr>\n",
              "  </tbody>\n",
              "</table>\n",
              "<p>301 rows × 9 columns</p>\n",
              "</div>"
            ],
            "text/plain": [
              "     Year  Present_Price  Fuel_Type_Diesel  ...  Owner_three  Owner_zero  Kms_Driven\n",
              "0      -6           5.59                 0  ...            0           1       27000\n",
              "1      -7           9.54                 1  ...            0           1       43000\n",
              "2      -3           9.85                 0  ...            0           1        6900\n",
              "3      -9           4.15                 0  ...            0           1        5200\n",
              "4      -6           6.87                 1  ...            0           1       42450\n",
              "..    ...            ...               ...  ...          ...         ...         ...\n",
              "296    -4          11.60                 1  ...            0           1       33988\n",
              "297    -5           5.90                 0  ...            0           1       60000\n",
              "298   -11          11.00                 0  ...            0           1       87934\n",
              "299    -3          12.50                 1  ...            0           1        9000\n",
              "300    -4           5.90                 0  ...            0           1        5464\n",
              "\n",
              "[301 rows x 9 columns]"
            ]
          },
          "metadata": {
            "tags": []
          },
          "execution_count": 115
        }
      ]
    },
    {
      "cell_type": "code",
      "metadata": {
        "id": "bGCawHc8lGeT",
        "outputId": "10a8f29b-82c5-4c01-cb49-0b64ce8aac12",
        "colab": {
          "base_uri": "https://localhost:8080/",
          "height": 36
        }
      },
      "source": [
        "x3_train, x3_test, y3_train, y3_test = train_test_split(x3, y3, test_size=0.2, random_state=0)\n",
        "reg3=LinearRegression()\n",
        "reg3.fit(x3_train,y3_train)"
      ],
      "execution_count": null,
      "outputs": [
        {
          "output_type": "execute_result",
          "data": {
            "text/plain": [
              "LinearRegression(copy_X=True, fit_intercept=True, n_jobs=None, normalize=False)"
            ]
          },
          "metadata": {
            "tags": []
          },
          "execution_count": 116
        }
      ]
    },
    {
      "cell_type": "code",
      "metadata": {
        "id": "5LymWIWnrYLb",
        "outputId": "074eca5d-a4da-4a98-a4fc-fe3e261edf3c",
        "colab": {
          "base_uri": "https://localhost:8080/",
          "height": 73
        }
      },
      "source": [
        "reg3.coef_"
      ],
      "execution_count": null,
      "outputs": [
        {
          "output_type": "execute_result",
          "data": {
            "text/plain": [
              "array([ 3.87817403e-01,  4.30712413e-01,  2.42039017e+00,  5.51288629e-01,\n",
              "       -1.14147250e+00, -1.53044037e+00, -6.50892284e+00, -7.65922863e-01,\n",
              "       -5.44397659e-06])"
            ]
          },
          "metadata": {
            "tags": []
          },
          "execution_count": 118
        }
      ]
    },
    {
      "cell_type": "code",
      "metadata": {
        "id": "RdFnZusilUC-",
        "outputId": "eb9a0975-11c0-49f1-b426-c828b4d8a5a6",
        "colab": {
          "base_uri": "https://localhost:8080/",
          "height": 36
        }
      },
      "source": [
        "mean_squared_error(y_true=y3_train, y_pred=reg3.predict(x3_train))"
      ],
      "execution_count": null,
      "outputs": [
        {
          "output_type": "execute_result",
          "data": {
            "text/plain": [
              "3.1702682875264987"
            ]
          },
          "metadata": {
            "tags": []
          },
          "execution_count": 117
        }
      ]
    },
    {
      "cell_type": "code",
      "metadata": {
        "id": "RgXtWN9NoHRa",
        "outputId": "cbb44146-a1b0-4a84-9111-10e0c86a4ae2",
        "colab": {
          "base_uri": "https://localhost:8080/",
          "height": 36
        }
      },
      "source": [
        "r2_score(y_true=y3_train, y_pred=reg3.predict(x3_train))"
      ],
      "execution_count": null,
      "outputs": [
        {
          "output_type": "execute_result",
          "data": {
            "text/plain": [
              "0.8769826317584918"
            ]
          },
          "metadata": {
            "tags": []
          },
          "execution_count": 112
        }
      ]
    },
    {
      "cell_type": "code",
      "metadata": {
        "id": "fnrL_0uNq5lx",
        "outputId": "b254b86b-9051-41f7-d643-3d1d14c9d40c",
        "colab": {
          "base_uri": "https://localhost:8080/",
          "height": 36
        }
      },
      "source": [
        "mean_squared_error(y_true=y3_test, y_pred=reg3.predict(x3_test))"
      ],
      "execution_count": null,
      "outputs": [
        {
          "output_type": "execute_result",
          "data": {
            "text/plain": [
              "2.073175480703054"
            ]
          },
          "metadata": {
            "tags": []
          },
          "execution_count": 113
        }
      ]
    },
    {
      "cell_type": "code",
      "metadata": {
        "id": "HmdRY9D0rDJj",
        "outputId": "521fcbca-8d9a-4edc-acd5-538fcfe53802",
        "colab": {
          "base_uri": "https://localhost:8080/",
          "height": 36
        }
      },
      "source": [
        "r2_score(y_true=y3_test, y_pred=reg3.predict(x3_test))"
      ],
      "execution_count": null,
      "outputs": [
        {
          "output_type": "execute_result",
          "data": {
            "text/plain": [
              "0.9179827767356279"
            ]
          },
          "metadata": {
            "tags": []
          },
          "execution_count": 114
        }
      ]
    },
    {
      "cell_type": "markdown",
      "metadata": {
        "id": "iMGcRGNMrdZb"
      },
      "source": [
        "Adding kms driven attribute made no difference so it can be excluded as we can the coefficent of kms driven is very small so that is the reason why it had no effect on the results of model. So for this dataset kms driven is of no use."
      ]
    },
    {
      "cell_type": "markdown",
      "metadata": {
        "id": "NLP2QiyGF7-r"
      },
      "source": [
        "work from previous notebook:\n",
        "i followed this notebook as a refernce https://www.kaggle.com/anzeee/linear-regression-for-car-price where relation between every variable to selling price is stated and a linear regression model is built."
      ]
    },
    {
      "cell_type": "markdown",
      "metadata": {
        "id": "GTkwZkfhGdud"
      },
      "source": [
        "My findings were elimination of Kms_travelled attribute as it has nothing to do in the model because of its inverse behaviour.\n",
        "\n",
        "And i have tried using owner atrribute as categorical data and it was observed that a bit of improvement is there."
      ]
    },
    {
      "cell_type": "code",
      "metadata": {
        "id": "qMfUEYIprGxS"
      },
      "source": [
        ""
      ],
      "execution_count": null,
      "outputs": []
    }
  ]
}
